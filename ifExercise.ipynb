{
 "cells": [
  {
   "cell_type": "code",
   "execution_count": null,
   "metadata": {},
   "outputs": [],
   "source": [
    "num1 = \"11\"\n",
    "num2 = \"1\"\n",
    "num3 = \"11\"\n",
    "\n",
    "\n",
    "if num1 != num2:\n",
    "    if num1 == num3:\n",
    "        print(\"num3 = num1\")\n",
    "else:\n",
    "    print(\"mikään ei ole oikein\")"
   ]
  }
 ],
 "metadata": {
  "language_info": {
   "name": "python"
  }
 },
 "nbformat": 4,
 "nbformat_minor": 2
}
