{
 "cells": [
  {
   "cell_type": "code",
   "execution_count": null,
   "metadata": {},
   "outputs": [],
   "source": [
    "furniture = [\"Table\", \"Chair\", \"shelf\", \"sofa\"]\n",
    "x = 0\n",
    "for x in range(0, 4):\n",
    "    print(furniture[x])\n",
    "    if furniture[x] == \"Chair\":\n",
    "        print(\"jee\")"
   ]
  }
 ],
 "metadata": {
  "language_info": {
   "name": "python"
  }
 },
 "nbformat": 4,
 "nbformat_minor": 2
}
