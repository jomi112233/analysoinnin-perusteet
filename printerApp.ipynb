{
 "cells": [
  {
   "cell_type": "code",
   "execution_count": 1,
   "metadata": {},
   "outputs": [
    {
     "name": "stdout",
     "output_type": "stream",
     "text": [
      "printer app\n",
      "this app was made by Mico\n",
      "num1 is 10\n",
      "10 * 452 = 4520\n",
      "10 / 452 = 45.2\n",
      "10 + 452 = 462\n",
      "10 - 452 = -442\n"
     ]
    }
   ],
   "source": [
    "creator = \"Mico\"\n",
    "num1 = 10\n",
    "num2 = 452\n",
    "multiplication = num1 * num2\n",
    "div = num2 / num1\n",
    "add = num1 + num2\n",
    "sub = num2 - num1\n",
    "\n",
    "print(\"printer app\")\n",
    "print(\"this app was made by \" + creator)\n",
    "print(\"num1 is\", num1)\n",
    "print(num1, \"*\", num2, \"=\", multiplication)\n",
    "print(num1, \"/\", num2, \"=\", div)\n",
    "print(num1, \"+\", num2, \"=\", add)\n",
    "print(num1, \"-\", num2, \"=\", -sub)"
   ]
  }
 ],
 "metadata": {
  "kernelspec": {
   "display_name": "Python 3",
   "language": "python",
   "name": "python3"
  },
  "language_info": {
   "codemirror_mode": {
    "name": "ipython",
    "version": 3
   },
   "file_extension": ".py",
   "mimetype": "text/x-python",
   "name": "python",
   "nbconvert_exporter": "python",
   "pygments_lexer": "ipython3",
   "version": "3.13.0"
  }
 },
 "nbformat": 4,
 "nbformat_minor": 2
}
